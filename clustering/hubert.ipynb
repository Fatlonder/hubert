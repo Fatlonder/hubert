{
 "cells": [
  {
   "cell_type": "code",
   "execution_count": null,
   "metadata": {},
   "outputs": [],
   "source": [
    "!python hubert/learn_kmeans.py /content/km 0 1 /content/km/kmeans_model.ext 100 --percent 0.1"
   ]
  },
  {
   "cell_type": "code",
   "execution_count": null,
   "metadata": {},
   "outputs": [],
   "source": [
    "!python hubert/dump_km_label.py /content/km 0 /content/km/dm.ext 1 0 /content/km"
   ]
  },
  {
   "cell_type": "code",
   "execution_count": null,
   "metadata": {},
   "outputs": [],
   "source": [
    "!mkdir labels\n",
    "!cp /content/km/0_0_1.km /content/labels/"
   ]
  }
 ],
 "metadata": {
  "language_info": {
   "name": "python"
  }
 },
 "nbformat": 4,
 "nbformat_minor": 2
}
